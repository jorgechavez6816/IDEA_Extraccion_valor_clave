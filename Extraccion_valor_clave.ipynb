{
 "cells": [
  {
   "cell_type": "code",
   "execution_count": 1,
   "metadata": {},
   "outputs": [],
   "source": [
    "import win32com.client as win32ComClient\n",
    "\n",
    "if __name__ == \"__main__\":\n",
    "    try:\n",
    "        dbName = \"Ejemplo-Detalle de ventas.IMD\"\n",
    "        idea = win32ComClient.Dispatch(dispatch=\"Idea.IdeaClient\")\n",
    "        db = idea.OpenDatabase(dbName)\n",
    "        task = db.KeyValueExtraction()\n",
    "        w, h = 1, 6;\n",
    "        myArray = [[0 for x in range(w)] for y in range(h)] \n",
    "        myArray[0][0] = \"01\"\n",
    "        myArray[1][0] = \"02\"\n",
    "        myArray[2][0] = \"03\"\n",
    "        myArray[3][0] = \"04\"\n",
    "        myArray[4][0] = \"05\"\n",
    "        myArray[5][0] = \"06\"\n",
    "        task.IncludeAllFields()\n",
    "        task.AddKey(\"COD_PROD\", \"A\")\n",
    "        task.DBPrefix = (\"PROD\")\n",
    "        task.CreateMultipleDatabases = True\n",
    "        task.CreateVirtualDatabase=False\n",
    "        task.ValuesToExtract(myArray)\n",
    "        task.criteria = \"\"\n",
    "        task.PerformTask()\n",
    "        dbName = task.DBName\n",
    "    finally:\n",
    "        task = None\n",
    "        db = None\n",
    "        idea = None"
   ]
  },
  {
   "cell_type": "code",
   "execution_count": null,
   "metadata": {},
   "outputs": [],
   "source": []
  }
 ],
 "metadata": {
  "kernelspec": {
   "display_name": "Python 3",
   "language": "python",
   "name": "python3"
  },
  "language_info": {
   "codemirror_mode": {
    "name": "ipython",
    "version": 3
   },
   "file_extension": ".py",
   "mimetype": "text/x-python",
   "name": "python",
   "nbconvert_exporter": "python",
   "pygments_lexer": "ipython3",
   "version": "3.7.6"
  }
 },
 "nbformat": 4,
 "nbformat_minor": 4
}
